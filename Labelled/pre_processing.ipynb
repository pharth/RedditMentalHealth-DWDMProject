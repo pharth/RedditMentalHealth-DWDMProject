{
 "cells": [
  {
   "cell_type": "code",
   "execution_count": null,
   "id": "355b49d7",
   "metadata": {},
   "outputs": [],
   "source": [
    "import pandas as pd\n",
    "import os"
   ]
  },
  {
   "cell_type": "code",
   "execution_count": null,
   "id": "3b2218e7",
   "metadata": {},
   "outputs": [
    {
     "name": "stdout",
     "output_type": "stream",
     "text": [
      "Loaded LD DA 1.csv with shape (223, 6)\n",
      "Loaded LD EL1.csv with shape (200, 7)\n",
      "Loaded LD PF1.csv with shape (200, 7)\n",
      "Loaded LD TS 1.csv with shape (200, 7)\n",
      "Dropped CAT 1 column\n",
      "\n",
      "Combined DataFrame Shape: (823, 6)\n",
      "\n",
      "Combined DataFrame Columns:\n",
      "['score', 'selftext', 'subreddit', 'title', 'Label', 'source_file']\n"
     ]
    },
    {
     "data": {
      "text/html": [
       "<div>\n",
       "<style scoped>\n",
       "    .dataframe tbody tr th:only-of-type {\n",
       "        vertical-align: middle;\n",
       "    }\n",
       "\n",
       "    .dataframe tbody tr th {\n",
       "        vertical-align: top;\n",
       "    }\n",
       "\n",
       "    .dataframe thead th {\n",
       "        text-align: right;\n",
       "    }\n",
       "</style>\n",
       "<table border=\"1\" class=\"dataframe\">\n",
       "  <thead>\n",
       "    <tr style=\"text-align: right;\">\n",
       "      <th></th>\n",
       "      <th>score</th>\n",
       "      <th>selftext</th>\n",
       "      <th>subreddit</th>\n",
       "      <th>title</th>\n",
       "      <th>Label</th>\n",
       "      <th>source_file</th>\n",
       "    </tr>\n",
       "  </thead>\n",
       "  <tbody>\n",
       "    <tr>\n",
       "      <th>0</th>\n",
       "      <td>1.0</td>\n",
       "      <td>Tried to watch this documentary “anxious Ameri...</td>\n",
       "      <td>Anxiety</td>\n",
       "      <td>Do people get over anxiety?</td>\n",
       "      <td>Drug and Alcohol</td>\n",
       "      <td>LD DA 1.csv</td>\n",
       "    </tr>\n",
       "    <tr>\n",
       "      <th>1</th>\n",
       "      <td>1.0</td>\n",
       "      <td>i’m currently laying in bed wide awake, feelin...</td>\n",
       "      <td>Anxiety</td>\n",
       "      <td>does anyone else have this big fear of suddenl...</td>\n",
       "      <td>Drug and Alcohol</td>\n",
       "      <td>LD DA 1.csv</td>\n",
       "    </tr>\n",
       "    <tr>\n",
       "      <th>2</th>\n",
       "      <td>2.0</td>\n",
       "      <td>Second time trying weed. First time felt close...</td>\n",
       "      <td>Anxiety</td>\n",
       "      <td>3 hour long panic attack after trying weed</td>\n",
       "      <td>Drug and Alcohol</td>\n",
       "      <td>LD DA 1.csv</td>\n",
       "    </tr>\n",
       "    <tr>\n",
       "      <th>3</th>\n",
       "      <td>1.0</td>\n",
       "      <td>I am not posting this for me, but rather for m...</td>\n",
       "      <td>Anxiety</td>\n",
       "      <td>Please leave in the comments ANYTHING that has...</td>\n",
       "      <td>Drug and Alcohol</td>\n",
       "      <td>LD DA 1.csv</td>\n",
       "    </tr>\n",
       "    <tr>\n",
       "      <th>4</th>\n",
       "      <td>1.0</td>\n",
       "      <td>21 year old male been dealing with anxiety eve...</td>\n",
       "      <td>Anxiety</td>\n",
       "      <td>Alcohol induced</td>\n",
       "      <td>Drug and Alcohol</td>\n",
       "      <td>LD DA 1.csv</td>\n",
       "    </tr>\n",
       "  </tbody>\n",
       "</table>\n",
       "</div>"
      ],
      "text/plain": [
       "   score                                           selftext subreddit  \\\n",
       "0    1.0  Tried to watch this documentary “anxious Ameri...   Anxiety   \n",
       "1    1.0  i’m currently laying in bed wide awake, feelin...   Anxiety   \n",
       "2    2.0  Second time trying weed. First time felt close...   Anxiety   \n",
       "3    1.0  I am not posting this for me, but rather for m...   Anxiety   \n",
       "4    1.0  21 year old male been dealing with anxiety eve...   Anxiety   \n",
       "\n",
       "                                               title             Label  \\\n",
       "0                        Do people get over anxiety?  Drug and Alcohol   \n",
       "1  does anyone else have this big fear of suddenl...  Drug and Alcohol   \n",
       "2         3 hour long panic attack after trying weed  Drug and Alcohol   \n",
       "3  Please leave in the comments ANYTHING that has...  Drug and Alcohol   \n",
       "4                                    Alcohol induced  Drug and Alcohol   \n",
       "\n",
       "   source_file  \n",
       "0  LD DA 1.csv  \n",
       "1  LD DA 1.csv  \n",
       "2  LD DA 1.csv  \n",
       "3  LD DA 1.csv  \n",
       "4  LD DA 1.csv  "
      ]
     },
     "execution_count": 7,
     "metadata": {},
     "output_type": "execute_result"
    }
   ],
   "source": [
    "# Path to the directory containing the CSV files\n",
    "data_directory = \"../Original Reddit Data/Labelled Data\"  # Update this to your directory path\n",
    "\n",
    "# List of CSV files to combine\n",
    "csv_files = [\"LD DA 1.csv\", \"LD EL1.csv\", \"LD PF1.csv\", \"LD TS 1.csv\"]\n",
    "\n",
    "# Create an empty list to store individual dataframes\n",
    "dataframes = []\n",
    "\n",
    "# Read each CSV file and append to the list\n",
    "for file in csv_files:\n",
    "    file_path = os.path.join(data_directory, file)\n",
    "    # Read the file\n",
    "    df = pd.read_csv(file_path)\n",
    "    df['source_file'] = file\n",
    "    dataframes.append(df)\n",
    "    print(f\"Loaded {file} with shape {df.shape}\")\n",
    "\n",
    "# Combine all dataframes\n",
    "combined_df = pd.concat(dataframes, ignore_index=True)\n",
    "\n",
    "# Drop the CAT1 column if it exists\n",
    "if 'CAT 1' in combined_df.columns:\n",
    "    combined_df = combined_df.drop('CAT 1', axis=1)\n",
    "    print(\"Dropped CAT 1 column\")\n",
    "\n",
    "# Display information about the combined dataframe\n",
    "print(f\"\\nCombined DataFrame Shape: {combined_df.shape}\")\n",
    "print(\"\\nCombined DataFrame Columns:\")\n",
    "print(combined_df.columns.tolist())\n",
    "\n",
    "# Display a sample of the combined data\n",
    "combined_df.head()"
   ]
  },
  {
   "cell_type": "code",
   "execution_count": 8,
   "id": "ecee0c5d",
   "metadata": {},
   "outputs": [
    {
     "name": "stdout",
     "output_type": "stream",
     "text": [
      "\n",
      "Null values in each column:\n",
      "score          23\n",
      "selftext       23\n",
      "subreddit      23\n",
      "title          23\n",
      "Label          23\n",
      "source_file     0\n",
      "dtype: int64\n"
     ]
    }
   ],
   "source": [
    "print(\"\\nNull values in each column:\")\n",
    "print(combined_df.isnull().sum())"
   ]
  },
  {
   "cell_type": "code",
   "execution_count": 9,
   "id": "03d7f146",
   "metadata": {},
   "outputs": [
    {
     "name": "stdout",
     "output_type": "stream",
     "text": [
      "\n",
      "Removed 23 rows with null values\n",
      "Clean DataFrame Shape: (800, 6)\n"
     ]
    }
   ],
   "source": [
    "combined_df_clean = combined_df.dropna()\n",
    "print(f\"\\nRemoved {combined_df.shape[0] - combined_df_clean.shape[0]} rows with null values\")\n",
    "print(f\"Clean DataFrame Shape: {combined_df_clean.shape}\")"
   ]
  },
  {
   "cell_type": "code",
   "execution_count": 10,
   "id": "026a649b",
   "metadata": {},
   "outputs": [
    {
     "name": "stdout",
     "output_type": "stream",
     "text": [
      "Clean dataset saved to combined_labeled_data_clean.csv\n"
     ]
    }
   ],
   "source": [
    "combined_df_clean.to_csv(\"data/combined_labeled_data_clean.csv\", index=False)\n",
    "print(\"Clean dataset saved to combined_labeled_data_clean.csv\")"
   ]
  }
 ],
 "metadata": {
  "kernelspec": {
   "display_name": "venv",
   "language": "python",
   "name": "python3"
  },
  "language_info": {
   "codemirror_mode": {
    "name": "ipython",
    "version": 3
   },
   "file_extension": ".py",
   "mimetype": "text/x-python",
   "name": "python",
   "nbconvert_exporter": "python",
   "pygments_lexer": "ipython3",
   "version": "3.11.9"
  }
 },
 "nbformat": 4,
 "nbformat_minor": 5
}
