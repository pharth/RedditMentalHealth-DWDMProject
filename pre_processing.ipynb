{
 "cells": [
  {
   "cell_type": "code",
   "execution_count": 2,
   "metadata": {},
   "outputs": [],
   "source": [
    "import pandas as pd\n",
    "import numpy as np\n",
    "import matplotlib.pyplot as plt\n",
    "import seaborn as sns\n",
    "import os\n",
    "from pathlib import Path"
   ]
  },
  {
   "cell_type": "markdown",
   "metadata": {},
   "source": [
    "# 1. Data Preprocessing"
   ]
  },
  {
   "cell_type": "code",
   "execution_count": null,
   "metadata": {},
   "outputs": [],
   "source": [
    "base_dir = Path('./Original Reddit Data/raw data')  # Current dir\n",
    "monthly_df = []\n",
    "years = ['2019', '2020', '2021', '2022']\n",
    "\n",
    "for year in years:\n",
    "    year_dir = base_dir / year\n",
    "        \n",
    "    print(f\"Processing year: {year}\")\n",
    "    # month folder in year\n",
    "    for subdir_path in year_dir.iterdir():\n",
    "        if not subdir_path.is_dir():\n",
    "            continue\n",
    "            \n",
    "        print(f\"  Processing subdirectory: {subdir_path.name}\")\n",
    "        # Find all CSV files in the subdir\n",
    "        csv_files = list(subdir_path.glob('*.csv'))\n",
    "        \n",
    "        for csv_file in csv_files:\n",
    "            print(f\"    Reading file: {csv_file.name}\")\n",
    "            df = pd.read_csv(csv_file)\n",
    "            df = df.drop(df.columns[0], axis=1) # drop first col\n",
    "            monthly_df.append(df)\n",
    "\n",
    "# Concat all dataframes\n",
    "if monthly_df:\n",
    "    df = pd.concat(monthly_df, ignore_index=True)\n",
    "else:\n",
    "    print(\"No CSV files found or all files were empty.\")\n",
    "\n",
    "df.to_csv('data/RMHD_raw.csv', index=False)"
   ]
  },
  {
   "cell_type": "code",
   "execution_count": 3,
   "metadata": {},
   "outputs": [
    {
     "name": "stdout",
     "output_type": "stream",
     "text": [
      "<class 'pandas.core.frame.DataFrame'>\n",
      "RangeIndex: 1851580 entries, 0 to 1851579\n",
      "Data columns (total 7 columns):\n",
      " #   Column       Dtype \n",
      "---  ------       ----- \n",
      " 0   author       object\n",
      " 1   created_utc  int64 \n",
      " 2   score        int64 \n",
      " 3   selftext     object\n",
      " 4   subreddit    object\n",
      " 5   title        object\n",
      " 6   timestamp    object\n",
      "dtypes: int64(2), object(5)\n",
      "memory usage: 98.9+ MB\n"
     ]
    }
   ],
   "source": [
    "df = pd.read_csv('data/RMHD_raw.csv')\n",
    "df.info()"
   ]
  },
  {
   "cell_type": "code",
   "execution_count": 4,
   "metadata": {},
   "outputs": [
    {
     "name": "stdout",
     "output_type": "stream",
     "text": [
      "author             0\n",
      "created_utc        0\n",
      "score              0\n",
      "selftext       54564\n",
      "subreddit          0\n",
      "title              8\n",
      "timestamp          0\n",
      "dtype: int64\n"
     ]
    }
   ],
   "source": [
    "# find nan in each column\n",
    "print(df.isnull().sum())\n",
    "# drop rows with nan\n",
    "df.dropna(inplace=True)"
   ]
  },
  {
   "cell_type": "code",
   "execution_count": 5,
   "metadata": {},
   "outputs": [],
   "source": [
    "# convert timestamp to datetime\n",
    "df['timestamp'] = pd.to_datetime(df['timestamp'])\n",
    "df.drop(columns=['created_utc'], inplace=True)"
   ]
  },
  {
   "cell_type": "code",
   "execution_count": 6,
   "metadata": {},
   "outputs": [
    {
     "name": "stdout",
     "output_type": "stream",
     "text": [
      "subreddit\n",
      "depression                                                                                                            620317\n",
      "SuicideWatch                                                                                                          452458\n",
      "mentalhealth                                                                                                          298409\n",
      "Anxiety                                                                                                               268539\n",
      "lonely                                                                                                                153575\n",
      "If anyone is afraid to call a suicide hotline please message me and I will gladly arrange a phone call with you ❤️         9\n",
      ".                                                                                                                          9\n",
      "My bestfriend and I made a suicide pact.                                                                                   6\n",
      "Rejected from the only job I've wanted                                                                                     6\n",
      "A suicide note and a message.                                                                                              6\n",
      "Name: count, dtype: int64\n"
     ]
    },
    {
     "data": {
      "text/plain": [
       "Text(0.5, 1.0, 'Subreddit distribution')"
      ]
     },
     "execution_count": 6,
     "metadata": {},
     "output_type": "execute_result"
    },
    {
     "data": {
      "image/png": "[encoded data removed]",
      "text/plain": [
       "<Figure size 640x480 with 1 Axes>"
      ]
     },
     "metadata": {},
     "output_type": "display_data"
    }
   ],
   "source": [
    "print(df['subreddit'].value_counts().head(10))\n",
    "# keep only top 5\n",
    "top5 = df['subreddit'].value_counts().head(5).index\n",
    "df = df[df['subreddit'].isin(top5)]\n",
    "\n",
    "sns.countplot(y='subreddit', data=df)\n",
    "plt.title('Subreddit distribution')"
   ]
  },
  {
   "cell_type": "code",
   "execution_count": 7,
   "metadata": {},
   "outputs": [
    {
     "data": {
      "image/png": "[encoded data removed]",
      "text/plain": [
       "<Figure size 1600x800 with 1 Axes>"
      ]
     },
     "metadata": {},
     "output_type": "display_data"
    }
   ],
   "source": [
    "plt.figure(figsize=(16, 8))\n",
    "\n",
    "sns.barplot(df['timestamp'].dt.to_period('M').value_counts().sort_index())\n",
    "\n",
    "# Customize appearance\n",
    "plt.title('Monthly Post Frequency', fontsize=16)\n",
    "plt.xlabel('Month', fontsize=14)\n",
    "plt.ylabel('Number of Posts', fontsize=14)\n",
    "plt.xticks(rotation=45, ha='right')\n",
    "plt.grid(axis='y', linestyle='--', alpha=0.7)"
   ]
  },
  {
   "cell_type": "markdown",
   "metadata": {},
   "source": [
    "# 2. Text Preprocessing "
   ]
  },
  {
   "cell_type": "code",
   "execution_count": 21,
   "metadata": {},
   "outputs": [
    {
     "name": "stderr",
     "output_type": "stream",
     "text": [
      "[nltk_data] Downloading package punkt to C:\\Users\\Parth\n",
      "[nltk_data]     Hanchate\\AppData\\Roaming\\nltk_data...\n",
      "[nltk_data]   Package punkt is already up-to-date!\n",
      "[nltk_data] Downloading package stopwords to C:\\Users\\Parth\n",
      "[nltk_data]     Hanchate\\AppData\\Roaming\\nltk_data...\n",
      "[nltk_data]   Package stopwords is already up-to-date!\n",
      "[nltk_data] Downloading package wordnet to C:\\Users\\Parth\n",
      "[nltk_data]     Hanchate\\AppData\\Roaming\\nltk_data...\n",
      "[nltk_data]   Package wordnet is already up-to-date!\n",
      "[nltk_data] Downloading package omw-1.4 to C:\\Users\\Parth\n",
      "[nltk_data]     Hanchate\\AppData\\Roaming\\nltk_data...\n",
      "[nltk_data]   Package omw-1.4 is already up-to-date!\n"
     ]
    },
    {
     "data": {
      "text/plain": [
       "True"
      ]
     },
     "execution_count": 21,
     "metadata": {},
     "output_type": "execute_result"
    }
   ],
   "source": [
    "import re\n",
    "import nltk\n",
    "import pandas as pd\n",
    "import numpy as np\n",
    "from nltk.corpus import stopwords\n",
    "from nltk.stem import WordNetLemmatizer, SnowballStemmer\n",
    "from nltk.tokenize import word_tokenize\n",
    "import string\n",
    "import emoji\n",
    "\n",
    "# Download required NLTK resources\n",
    "nltk.download('punkt')\n",
    "nltk.download('stopwords')\n",
    "nltk.download('wordnet')\n",
    "nltk.download('omw-1.4')"
   ]
  },
  {
   "cell_type": "code",
   "execution_count": 10,
   "metadata": {},
   "outputs": [],
   "source": [
    "stop_words = set(stopwords.words('english'))\n",
    "lemmatizer = WordNetLemmatizer()\n",
    "stemmer = SnowballStemmer('english')"
   ]
  },
  {
   "cell_type": "code",
   "execution_count": 11,
   "metadata": {},
   "outputs": [],
   "source": [
    "reddit_stop_words = {\n",
    "    'reddit', 'upvote', 'downvote', 'karma', 'subreddit', 'edit', 'tldr', \n",
    "    'op', 'deleted', 'removed', 'permalink', 'gilded', 'awarded', 'mod', \n",
    "    'throwaway', 'redditor', 'updoot', 'flair', 'repost', 'crosspost'\n",
    "}\n",
    "stop_words.update(reddit_stop_words)"
   ]
  },
  {
   "cell_type": "code",
   "execution_count": 12,
   "metadata": {},
   "outputs": [],
   "source": [
    "mental_health_terms = {\n",
    "    'anxiety', 'depression', 'therapy', 'therapist', 'medication', 'meds',\n",
    "    'diagnosis', 'disorder', 'mental', 'health', 'stress', 'panic',\n",
    "    'attack', 'fear', 'worry', 'trauma', 'ptsd', 'ocd', 'adhd', 'bipolar'\n",
    "}\n",
    "stop_words = stop_words - mental_health_terms"
   ]
  },
  {
   "cell_type": "code",
   "execution_count": 13,
   "metadata": {},
   "outputs": [
    {
     "name": "stderr",
     "output_type": "stream",
     "text": [
      "<>:6: SyntaxWarning: invalid escape sequence '\\['\n",
      "<>:6: SyntaxWarning: invalid escape sequence '\\['\n",
      "<>:6: SyntaxWarning: invalid escape sequence '\\['\n",
      "<>:6: SyntaxWarning: invalid escape sequence '\\['\n",
      "/tmp/ipykernel_579/3088254418.py:6: SyntaxWarning: invalid escape sequence '\\['\n",
      "  'deleted', 'removed', '\\[removed\\]', '\\[deleted\\]'\n",
      "/tmp/ipykernel_579/3088254418.py:6: SyntaxWarning: invalid escape sequence '\\['\n",
      "  'deleted', 'removed', '\\[removed\\]', '\\[deleted\\]'\n"
     ]
    }
   ],
   "source": [
    "def clean_reddit_data(df):\n",
    "\n",
    "    cleaned_df = df.copy()\n",
    "    removed_patterns = [\n",
    "        '[removed]', '[deleted]', '[removed by reddit]', \n",
    "        'deleted', 'removed', '\\[removed\\]', '\\[deleted\\]'\n",
    "    ]\n",
    "    \n",
    "    for col in ['selftext', 'title']:\n",
    "        if col in cleaned_df.columns:\n",
    "            for pattern in removed_patterns:\n",
    "                cleaned_df[col] = cleaned_df[col].replace(pattern, np.nan)\n",
    "\n",
    "            cleaned_df[col] = cleaned_df[col].replace('', np.nan)\n",
    "    \n",
    "    if 'title' in cleaned_df.columns and 'selftext' in cleaned_df.columns:\n",
    "        cleaned_df['has_content'] = (~cleaned_df['title'].isna()) | (~cleaned_df['selftext'].isna())\n",
    "        cleaned_df = cleaned_df[cleaned_df['has_content']].drop('has_content', axis=1)\n",
    "\n",
    "    if 'created_utc' in cleaned_df.columns and 'timestamp' not in cleaned_df.columns:\n",
    "        cleaned_df['timestamp'] = pd.to_datetime(cleaned_df['created_utc'], unit='s')\n",
    "    \n",
    "    return cleaned_df"
   ]
  },
  {
   "cell_type": "code",
   "execution_count": 14,
   "metadata": {},
   "outputs": [],
   "source": [
    "def preprocess_text(text, stem=False, keep_emojis=True, min_word_length=2):\n",
    "\n",
    "    if not isinstance(text, str) or pd.isna(text):\n",
    "        return \"\"\n",
    "\n",
    "    emojis_map = {}\n",
    "    if keep_emojis:\n",
    "        for char in text:\n",
    "            if char in emoji.EMOJI_DATA:\n",
    "                emoji_name = emoji.demojize(char).replace(':', '').replace('_', ' ')\n",
    "                text_description = f\"{emoji_name}_emoji\"\n",
    "                emojis_map[char] = text_description\n",
    "        \n",
    "        for emoji_char, description in emojis_map.items():\n",
    "            text = text.replace(emoji_char, f\" {description} \")\n",
    "    \n",
    "    # Convert to lowercase\n",
    "    text = text.lower()\n",
    "    \n",
    "    # Remove URLs\n",
    "    text = re.sub(r'http\\S+|www\\S+|https\\S+', '', text)\n",
    "    \n",
    "    # Remove Reddit user references (u/username)\n",
    "    text = re.sub(r'u/\\w+', '', text)\n",
    "    \n",
    "    # Remove Reddit subreddit references (r/subreddit)\n",
    "    text = re.sub(r'r/\\w+', '', text)\n",
    "    \n",
    "    # Remove Reddit formatting tags [text], (text)\n",
    "    text = re.sub(r'\\[.*?\\]|\\(.*?\\)', '', text)\n",
    "    \n",
    "    # Remove specific Reddit terms like EDIT:, TL;DR:\n",
    "    text = re.sub(r'\\bEDIT\\s*:|edit\\s*:|tldr\\s*:|tl;dr\\s*:', '', text)\n",
    "    \n",
    "    # Remove HTML entities (&amp; etc.)\n",
    "    text = re.sub(r'&[a-z]+;', '', text)\n",
    "    \n",
    "    # Remove numbers\n",
    "    text = re.sub(r'\\d+', '', text)\n",
    "    \n",
    "    # Remove punctuation\n",
    "    text = text.translate(str.maketrans('', '', string.punctuation))\n",
    "    \n",
    "    # Tokenize text into words\n",
    "    tokens = word_tokenize(text)\n",
    "    \n",
    "    # Process tokens based on stemming or lemmatization choice\n",
    "    if stem:\n",
    "        # Apply stemming\n",
    "        cleaned_tokens = [stemmer.stem(word) for word in tokens \n",
    "                         if word not in stop_words and len(word) >= min_word_length]\n",
    "    else:\n",
    "        # Apply lemmatization\n",
    "        cleaned_tokens = [lemmatizer.lemmatize(word) for word in tokens \n",
    "                         if word not in stop_words and len(word) >= min_word_length]\n",
    "    \n",
    "    # Rejoin into a single string\n",
    "    return ' '.join(cleaned_tokens)"
   ]
  },
  {
   "cell_type": "code",
   "execution_count": 15,
   "metadata": {},
   "outputs": [],
   "source": [
    "cleaned_df = clean_reddit_data(df)"
   ]
  },
  {
   "cell_type": "code",
   "execution_count": 16,
   "metadata": {},
   "outputs": [],
   "source": [
    "for col in ['title', 'selftext']:\n",
    "    if col in cleaned_df.columns:\n",
    "        cleaned_df[f'{col}_processed'] = cleaned_df[col].apply(\n",
    "            lambda x: preprocess_text(x, stem=False)\n",
    "        )"
   ]
  },
  {
   "cell_type": "code",
   "execution_count": 17,
   "metadata": {},
   "outputs": [
    {
     "data": {
      "text/html": [
       "<div>\n",
       "<style scoped>\n",
       "    .dataframe tbody tr th:only-of-type {\n",
       "        vertical-align: middle;\n",
       "    }\n",
       "\n",
       "    .dataframe tbody tr th {\n",
       "        vertical-align: top;\n",
       "    }\n",
       "\n",
       "    .dataframe thead th {\n",
       "        text-align: right;\n",
       "    }\n",
       "</style>\n",
       "<table border=\"1\" class=\"dataframe\">\n",
       "  <thead>\n",
       "    <tr style=\"text-align: right;\">\n",
       "      <th></th>\n",
       "      <th>author</th>\n",
       "      <th>score</th>\n",
       "      <th>selftext</th>\n",
       "      <th>subreddit</th>\n",
       "      <th>title</th>\n",
       "      <th>timestamp</th>\n",
       "      <th>title_processed</th>\n",
       "      <th>selftext_processed</th>\n",
       "    </tr>\n",
       "  </thead>\n",
       "  <tbody>\n",
       "    <tr>\n",
       "      <th>0</th>\n",
       "      <td>lavender__unicorn</td>\n",
       "      <td>4</td>\n",
       "      <td>I just started a new job (this will be my seco...</td>\n",
       "      <td>Anxiety</td>\n",
       "      <td>New job + teeth grinding</td>\n",
       "      <td>2019-09-30 23:40:28</td>\n",
       "      <td>new job teeth grinding</td>\n",
       "      <td>started new job town went college far love job...</td>\n",
       "    </tr>\n",
       "    <tr>\n",
       "      <th>1</th>\n",
       "      <td>IllustriousCareer6</td>\n",
       "      <td>1</td>\n",
       "      <td>I got a job in a construction market where I h...</td>\n",
       "      <td>Anxiety</td>\n",
       "      <td>My first day at work begins in a couple hours,...</td>\n",
       "      <td>2019-09-30 23:15:03</td>\n",
       "      <td>first day work begin couple hour feeling reall...</td>\n",
       "      <td>got job construction market help customer find...</td>\n",
       "    </tr>\n",
       "    <tr>\n",
       "      <th>2</th>\n",
       "      <td>Justcallme__rae</td>\n",
       "      <td>2</td>\n",
       "      <td>I’m having a hard time now because I just brok...</td>\n",
       "      <td>Anxiety</td>\n",
       "      <td>If someone sees you in a bad way, how do you l...</td>\n",
       "      <td>2019-09-30 22:52:13</td>\n",
       "      <td>someone see bad way let go</td>\n",
       "      <td>hard time broke ex seeing thing way wanted u s...</td>\n",
       "    </tr>\n",
       "    <tr>\n",
       "      <th>3</th>\n",
       "      <td>PurpleSpannerPony</td>\n",
       "      <td>1</td>\n",
       "      <td>My boyfriend is going away this weekend and as...</td>\n",
       "      <td>Anxiety</td>\n",
       "      <td>He’s going away this weekend</td>\n",
       "      <td>2019-09-30 22:45:13</td>\n",
       "      <td>going away weekend</td>\n",
       "      <td>boyfriend going away weekend date draw nearer ...</td>\n",
       "    </tr>\n",
       "    <tr>\n",
       "      <th>4</th>\n",
       "      <td>loathe-entirely</td>\n",
       "      <td>8</td>\n",
       "      <td>I work for a small company and the one person ...</td>\n",
       "      <td>Anxiety</td>\n",
       "      <td>Manager’s response to my anxiety is making eve...</td>\n",
       "      <td>2019-09-30 22:41:55</td>\n",
       "      <td>manager response anxiety making everything worse</td>\n",
       "      <td>work small company one person responsible part...</td>\n",
       "    </tr>\n",
       "  </tbody>\n",
       "</table>\n",
       "</div>"
      ],
      "text/plain": [
       "               author  score  \\\n",
       "0   lavender__unicorn      4   \n",
       "1  IllustriousCareer6      1   \n",
       "2     Justcallme__rae      2   \n",
       "3   PurpleSpannerPony      1   \n",
       "4     loathe-entirely      8   \n",
       "\n",
       "                                            selftext subreddit  \\\n",
       "0  I just started a new job (this will be my seco...   Anxiety   \n",
       "1  I got a job in a construction market where I h...   Anxiety   \n",
       "2  I’m having a hard time now because I just brok...   Anxiety   \n",
       "3  My boyfriend is going away this weekend and as...   Anxiety   \n",
       "4  I work for a small company and the one person ...   Anxiety   \n",
       "\n",
       "                                               title           timestamp  \\\n",
       "0                           New job + teeth grinding 2019-09-30 23:40:28   \n",
       "1  My first day at work begins in a couple hours,... 2019-09-30 23:15:03   \n",
       "2  If someone sees you in a bad way, how do you l... 2019-09-30 22:52:13   \n",
       "3                       He’s going away this weekend 2019-09-30 22:45:13   \n",
       "4  Manager’s response to my anxiety is making eve... 2019-09-30 22:41:55   \n",
       "\n",
       "                                     title_processed  \\\n",
       "0                             new job teeth grinding   \n",
       "1  first day work begin couple hour feeling reall...   \n",
       "2                         someone see bad way let go   \n",
       "3                                 going away weekend   \n",
       "4   manager response anxiety making everything worse   \n",
       "\n",
       "                                  selftext_processed  \n",
       "0  started new job town went college far love job...  \n",
       "1  got job construction market help customer find...  \n",
       "2  hard time broke ex seeing thing way wanted u s...  \n",
       "3  boyfriend going away weekend date draw nearer ...  \n",
       "4  work small company one person responsible part...  "
      ]
     },
     "execution_count": 17,
     "metadata": {},
     "output_type": "execute_result"
    }
   ],
   "source": [
    "cleaned_df.head()"
   ]
  },
  {
   "cell_type": "code",
   "execution_count": 18,
   "metadata": {},
   "outputs": [
    {
     "name": "stdout",
     "output_type": "stream",
     "text": [
      "Original Title:\n",
      "New job + teeth grinding\n",
      "\n",
      "Processed Title:\n",
      "new job teeth grinding\n",
      "Original Selftext:\n",
      "I just started a new job (this will be my second week) in the town that I went to college in. So far, I love my job and the students that I work with. I'm currently staying with a family friend who is lovely and I get a long with well. So in general I'm not currently stressed or feeling unhappy. \n",
      "\n",
      "BUT for some reason, since last week I have started grinding my teeth at night and clenching my jaw during the day. I have never had this problem before, and other than a night guard I don't really know what else to try (I can't wear one during the day). \n",
      "\n",
      "I've also noticed that, although I'm a jumpy person in general, my jumpiness has increased tenfold the last couple of days. Sounds are louder and stick out more. Last night I slept terribly. \n",
      "\n",
      "I have tried bedtime yoga, journaling, tea, and meditating. I feel like this is my anxiety manifesting in a new way. Does anyone have any tips or has anyone experienced something similar at some point?\n",
      "\n",
      "Processed Selftext:\n",
      "started new job town went college far love job student work im currently staying family friend lovely get long well general im currently stressed feeling unhappy reason since last week started grinding teeth night clenching jaw day never problem night guard dont really know else try ive also noticed although im jumpy person general jumpiness increased tenfold last couple day sound louder stick last night slept terribly tried bedtime yoga journaling tea meditating feel like anxiety manifesting new way anyone tip anyone experienced something similar point\n"
     ]
    }
   ],
   "source": [
    "print(\"Original Title:\")\n",
    "print(cleaned_df['title'].iloc[0])\n",
    "print(\"\\nProcessed Title:\")\n",
    "print(cleaned_df['title_processed'].iloc[0])\n",
    "\n",
    "print(\"Original Selftext:\")\n",
    "print(cleaned_df['selftext'].iloc[0])\n",
    "print(\"\\nProcessed Selftext:\")\n",
    "print(cleaned_df['selftext_processed'].iloc[0])"
   ]
  },
  {
   "cell_type": "code",
   "execution_count": 19,
   "metadata": {},
   "outputs": [],
   "source": [
    "cleaned_df.to_csv('data/RMHD_TextProcessed.csv', index=False)"
   ]
  }
 ],
 "metadata": {
  "kernelspec": {
   "display_name": "venv",
   "language": "python",
   "name": "python3"
  },
  "language_info": {
   "codemirror_mode": {
    "name": "ipython",
    "version": 3
   },
   "file_extension": ".py",
   "mimetype": "text/x-python",
   "name": "python",
   "nbconvert_exporter": "python",
   "pygments_lexer": "ipython3",
   "version": "3.11.9"
  }
 },
 "nbformat": 4,
 "nbformat_minor": 2
}
